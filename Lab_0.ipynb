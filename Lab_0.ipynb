{
 "cells": [
  {
   "cell_type": "markdown",
   "metadata": {},
   "source": [
    "![Columbia_Med](http://cumc.p.cumcweb.org/sites/default/files/styles/spotlight_image/public/cumc-building.jpg?itok=I5x7WIaT)"
   ]
  },
  {
   "cell_type": "markdown",
   "metadata": {},
   "source": [
    "# Lab 0: Intro to Anaconda and Jupyter\n",
    "This lab introduces the Jupyter notebook for Python, then reviews some of the basic functionality of the Python language. It is optional and ungraded, but you may submit your output for one bonus point! Feel free to reach out with any questions. The TA's are Jonah Einson (jee2142@cumc.columbia.edu) and Oliver Bear Don't Walk (ob2285@cumc.columbia.edu)\n",
    "\n",
    "Let's get started!"
   ]
  },
  {
   "cell_type": "markdown",
   "metadata": {},
   "source": [
    "## 0.1 Install Anaconda\n",
    "The python programming language is ubiquitous in data science, and it certaintly comes with its caveats. There are many modules available for python which extend its functionality, but installing them so they don't fight with each other can sometimes be a challenge. In this course, Python 3.6 will be the official version of python, and all modules used for labs will be installed through Anaconda. Anaconda is a package management tool that is very useful for handling different python and module versions. If, for example, you need to use python 3.7 for another project, a conda environment will keep it working on your computer without conflicting with the modules used in this course. Before the first lab, please download [Anaconda 3.7](https://www.anaconda.com/download/) for whatever system you use (Mac, PC, or Linux) and create an environment called `Computational_methods`, by opening a terminal and running the following command: \n",
    "\n",
    "`conda create --name Computational_methods -python=3.6`\n",
    "\n",
    "Make a directory where you will save your labs (I'm calling mine `CM_S19`), save `Lab_0.ipynb` in the directory, then navigate to the directory from a terminal. Activate your new environment by running `source activate Computational_methods` (or just `activate Computational_methods` on Windows). Your terminal should now look something like this:\n",
    "\n",
    "`(Computational_methods) jonah@spectre-x360:~/CM_S19$`\n",
    "\n",
    "Now, when you run `python`, your computer will look for the version in the `Computational_methods` directory, and not the one that in your global path. To see where python is, type `which python`. Now deactivate the environment by running `source deactivate`, and locate python again. What is the difference?"
   ]
  },
  {
   "cell_type": "markdown",
   "metadata": {},
   "source": []
  },
  {
   "cell_type": "markdown",
   "metadata": {},
   "source": [
    "For more information on Anaconda environments, check out the [conda-cheatsheet](https://conda.io/docs/_downloads/conda-cheatsheet.pdf). "
   ]
  },
  {
   "cell_type": "markdown",
   "metadata": {},
   "source": [
    "## 0.2 Set up Jupyter\n",
    "All of our labs will be done through Jupyter notebooks. Jupyter is a great tool for keeping your work organized, and for making your code more readable. Fortunately, it comes in the box with Anaconda! Jupyter plays nice with conda environments, but in order for it to recognize packages you install in your `Computational_methods` environment, you must install a new python kernel from the environment's version of python. To do this, activate your `Computational_methods` environment again, and run:\n",
    "\n",
    "`python -m ipykernel install --user --name CM --display-name \"Python (Computational Methods)\"`\n",
    "\n",
    "(Depending on your configuration, `ipykernel` may not be installed yet. In this case, scroll ahead for more information on how to install packages.) Now, run `jupyter notebook`, and click the URL to open Jupyter program in your preferred browser. Once Jupyter is running, you can now open `Lab_0.pynb` from the Jupyter dashboard. If you can't find it, navigate to the directory where you save downloads in the terminal, then re run `jupyter notebook`.\n",
    "\n",
    "Once you get the notebook running, make sure you are using the correct python kernel. It should say \"Python (Computational Methods)\" in the upper right hand corner if you are using the correct kernel. You can change kernels from the dropdown Kernel menu. (You can also install kernels for other programming languages like R and Java)"
   ]
  },
  {
   "cell_type": "markdown",
   "metadata": {},
   "source": [
    "### ***Pro Tip!***\n",
    "Initialize a new git repository in your `Computational_methods` folder. Using version control is a good habit to get into, and can save you from losing work if something goes wrong. Read more about version control [here](https://thenewstack.io/tutorial-git-for-absolutely-everyone/)"
   ]
  },
  {
   "cell_type": "markdown",
   "metadata": {},
   "source": [
    "Once you've completed all of these steps, you can open `Lab_0.ipynb` with Jupyter, and continue the rest of this lab interactively! The rest of the labs will be distributed and run this way. "
   ]
  },
  {
   "cell_type": "markdown",
   "metadata": {},
   "source": [
    "## 0.3 Check installation\n",
    "At this point, you should be viewing the `.ipynb` version of this notebook through Jupyter with the shiny new python kernel you just made. Below, insert a screenshot of your terminal running jupyter notebook, in the `Computational_methods` environment. "
   ]
  },
  {
   "cell_type": "markdown",
   "metadata": {},
   "source": [
    "![screenshot](img/termi.png)"
   ]
  },
  {
   "cell_type": "markdown",
   "metadata": {},
   "source": [
    "Next, run the following code chunk. In Jupyter, code is excuted one chunk at a time. To run a code chunk, select the code, and type `Ctrl + Enter`. If your code outputs anything, it will be displayed below the chunk after it executes. The following chunk displays the version of python you're currently using. "
   ]
  },
  {
   "cell_type": "code",
   "execution_count": 1,
   "metadata": {},
   "outputs": [
    {
     "name": "stdout",
     "output_type": "stream",
     "text": [
      "3.6.8 |Anaconda, Inc.| (default, Dec 29 2018, 19:04:46) \n",
      "[GCC 4.2.1 Compatible Clang 4.0.1 (tags/RELEASE_401/final)]\n"
     ]
    }
   ],
   "source": [
    "import sys\n",
    "print(sys.version)"
   ]
  },
  {
   "cell_type": "markdown",
   "metadata": {},
   "source": [
    "If you get an output that says 3.6.x, you're good to go!\n",
    "\n",
    "Now let's try importing some other packages. "
   ]
  },
  {
   "cell_type": "code",
   "execution_count": 2,
   "metadata": {},
   "outputs": [
    {
     "name": "stdout",
     "output_type": "stream",
     "text": [
      "1.15.4\n"
     ]
    }
   ],
   "source": [
    "import numpy as np\n",
    "import matplotlib.pyplot as plt\n",
    "\n",
    "print(np.__version__)"
   ]
  },
  {
   "cell_type": "markdown",
   "metadata": {},
   "source": [
    "If you get a `ModuleNotFoundError`, these modules have not been installed in your environment yet! To install these modules, simply open up another Terminal, activate your `Computational_methods` environment, and run `conda install module.name` to install whatever module you need. After installing `numpy` and `matplotlib`, try running the previous chunk again. "
   ]
  },
  {
   "cell_type": "markdown",
   "metadata": {},
   "source": [
    "### 0.4 Test Packages\n",
    "\n",
    "Now that you have numpy and matplotlib installed, try playing around with them. The following code plots a histogram of 1000 random samples form a Gaussian distribution. Plots made with matplotlib appear below the code chunk."
   ]
  },
  {
   "cell_type": "code",
   "execution_count": 3,
   "metadata": {},
   "outputs": [],
   "source": [
    "rands = np.random.normal(0, 1, 1000)"
   ]
  },
  {
   "cell_type": "code",
   "execution_count": 4,
   "metadata": {},
   "outputs": [
    {
     "data": {
      "image/png": "[encoded data removed]",
      "text/plain": [
       "<Figure size 432x288 with 1 Axes>"
      ]
     },
     "metadata": {
      "needs_background": "light"
     },
     "output_type": "display_data"
    }
   ],
   "source": [
    "plt.hist(rands)\n",
    "plt.title(\"1000 Draws from a Gaussian\")\n",
    "plt.show()"
   ]
  },
  {
   "cell_type": "markdown",
   "metadata": {
    "collapsed": true
   },
   "source": [
    "Now take some time to play around with Jupyter. Try defining inserting some new cells, defining variables, doing basic math operations, and making more plots. Good luck!"
   ]
  }
 ],
 "metadata": {
  "kernelspec": {
   "display_name": "Python (Computational Methods)",
   "language": "python",
   "name": "cm"
  },
  "language_info": {
   "codemirror_mode": {
    "name": "ipython",
    "version": 3
   },
   "file_extension": ".py",
   "mimetype": "text/x-python",
   "name": "python",
   "nbconvert_exporter": "python",
   "pygments_lexer": "ipython3",
   "version": "3.6.8"
  }
 },
 "nbformat": 4,
 "nbformat_minor": 2
}
